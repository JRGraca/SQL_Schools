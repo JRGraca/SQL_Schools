{
 "cells": [
  {
   "cell_type": "markdown",
   "metadata": {},
   "source": [
    "### Student Profiles"
   ]
  },
  {
   "cell_type": "code",
   "execution_count": null,
   "metadata": {},
   "outputs": [],
   "source": [
    "## Student_1\n",
    "## student_name = jo\n",
    "## student_age = 24\n",
    "## course_desired = cyber security\n",
    "## course_method = remote\n",
    "## course_lenght = part_time\n",
    "## desired_location = somewhere sunny\n",
    "\n",
    "## Student_2\n",
    "## student_name = chico\n",
    "## student_age = 25\n",
    "## course_desired = web dev\n",
    "## course_method = in person\n",
    "## course_lenght = full time\n",
    "## desired_weather = rainy\n",
    "\n",
    "## Student_3\n",
    "## student_name = johnny\n",
    "## student_age = 41\n",
    "## course_desired = data analytics\n",
    "## course_method = in person (hybrid?)\n",
    "## course_lenght = full time \n",
    "## desired_weather = average\n"
   ]
  },
  {
   "cell_type": "markdown",
   "metadata": {},
   "source": [
    "### BUSINESS QUESTION"
   ]
  },
  {
   "cell_type": "code",
   "execution_count": null,
   "metadata": {},
   "outputs": [],
   "source": [
    "## What is the best school for me?\n"
   ]
  },
  {
   "cell_type": "markdown",
   "metadata": {},
   "source": [
    "### SMALL QUERIES"
   ]
  },
  {
   "cell_type": "markdown",
   "metadata": {},
   "source": [
    "### For Jo:\n",
    "\n",
    "Cyber security courses:\n",
    "\n",
    "SELECT * FROM final_schema.courses\n",
    "WHERE courses LIKE '%security%';\n",
    "\n",
    "/* Mentioning Part-Time: */\n",
    "SELECT * FROM final_schema.courses\n",
    "WHERE courses LIKE '%security%'\n",
    "AND courses LIKE '%part%';\n",
    "\n",
    "/* Unfortunately, there is only the Ironhack bootcamp. We don't have information on schedules for the other programs. More data is needed.\n",
    "\n",
    "But if Jo chooses Ironhack... where? */\n",
    "\n",
    "SELECT * FROM final_schema.locations\n",
    "WHERE school = 'ironhack';\n",
    "\n",
    "CREATE TEMPORARY TABLE sunshine_hours\n",
    "SELECT * FROM (\n",
    "SELECT id, `country.name`, `city.keyword`\n",
    "FROM final_schema.locations\n",
    "WHERE school = 'ironhack') AS ironhack_cities\n",
    "INNER JOIN sunshine\n",
    "ON ironhack_cities.id = sunshine.location_id;\n",
    "\n",
    "SELECT * FROM sunshine_hours\n",
    "ORDER BY Year DESC;\n",
    "\n",
    "/* The most sunny place with an Ironhack Campus where Jo could study is Lisbon,\n",
    "with an average 2806 hours of sunshine per Year */\n"
   ]
  },
  {
   "cell_type": "markdown",
   "metadata": {},
   "source": [
    "### For Chico:\n",
    "\n",
    "/* What Schools offer Web Development? */\n",
    "\n",
    "SELECT *\n",
    "FROM final_schema.courses\n",
    "WHERE courses.courses LIKE '%Web Dev%';\n",
    "\n",
    "/* Let's see if we're not missing anything... */\n",
    "SELECT *\n",
    "FROM final_schema.courses\n",
    "WHERE courses.courses\n",
    "LIKE '%web%'\n",
    "OR courses.courses\n",
    "LIKE '%dev%';\n",
    "\n",
    "/* Well, iOS Development is not Web Development...\n",
    "Our final candidate list should be this... */\n",
    "\n",
    "SELECT *\n",
    "FROM final_schema.courses\n",
    "WHERE courses.courses\n",
    "LIKE '%web dev%'\n",
    "AND courses.courses\n",
    "NOT LIKE '%part%';\n",
    "\n",
    "/* We have ironhack and brainstation. Let's check the campuses and the weather */\n",
    "\n",
    "SELECT id, `country.name`, `city.keyword`, school\n",
    "FROM locations\n",
    "WHERE school = 'ironhack'\n",
    "OR school = 'brainstation';\n",
    "\n",
    "CREATE TEMPORARY TABLE chico_choices\n",
    "SELECT * FROM\n",
    "(SELECT id, `country.name`, `city.keyword`, school\n",
    "FROM locations\n",
    "WHERE school = 'ironhack'\n",
    "OR school = 'brainstation') AS ih_bs_cities\n",
    "INNER JOIN sunshine\n",
    "ON sunshine.location_id = ih_bs_cities.id;\n",
    "\n",
    "SELECT * FROM chico_choices\n",
    "ORDER BY year ASC\n",
    "LIMIT 3;\n",
    "\n",
    "/* Seems like the least sunny option (and hopefully more rainy) is the Ironhack in Berlin */"
   ]
  },
  {
   "cell_type": "markdown",
   "metadata": {},
   "source": [
    "### For Johnny:"
   ]
  }
 ],
 "metadata": {
  "kernelspec": {
   "display_name": "Python 3.8.10 64-bit (microsoft store)",
   "language": "python",
   "name": "python3"
  },
  "language_info": {
   "codemirror_mode": {
    "name": "ipython",
    "version": 3
   },
   "file_extension": ".py",
   "mimetype": "text/x-python",
   "name": "python",
   "nbconvert_exporter": "python",
   "pygments_lexer": "ipython3",
   "version": "3.8.10"
  },
  "orig_nbformat": 4,
  "vscode": {
   "interpreter": {
    "hash": "d6a835cb0e3e2e42c08a78000f73c01243dc5ec4e68a4401291fff98434c71d3"
   }
  }
 },
 "nbformat": 4,
 "nbformat_minor": 2
}
